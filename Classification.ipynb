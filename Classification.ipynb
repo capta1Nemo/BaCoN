{
 "cells": [
  {
   "cell_type": "markdown",
   "metadata": {
    "id": "b2-LDl_8Nai6"
   },
   "source": [
    "# Classification of power spectra with BaCoN\n",
    "\n",
    "This notebook shows how to classify a dark matter PS using the pre-trained BaCoN. It can be used to classify any new spectrum. See the data description for the format required"
   ]
  },
  {
   "cell_type": "markdown",
   "metadata": {
    "id": "Flvg9eICNhqn"
   },
   "source": [
    "## Load the code\n",
    " \n",
    "Here we mount the drive and import BaCoN. If running on your machine, be sure to have tensorflow2 and tensorflow probability installed and jump directly to the imports. "
   ]
  },
  {
   "cell_type": "code",
   "execution_count": null,
   "metadata": {
    "colab": {
     "base_uri": "https://localhost:8080/"
    },
    "executionInfo": {
     "elapsed": 45984,
     "status": "ok",
     "timestamp": 1607372591882,
     "user": {
      "displayName": "Michele Mancarella",
      "photoUrl": "",
      "userId": "11681048043505385774"
     },
     "user_tz": -60
    },
    "id": "IsK8I6G3BAYE",
    "outputId": "59fe93b6-d5a1-446f-c77b-123a224daf30"
   },
   "outputs": [],
   "source": []
  },
  {
   "cell_type": "code",
   "execution_count": null,
   "metadata": {
    "colab": {
     "base_uri": "https://localhost:8080/"
    },
    "executionInfo": {
     "elapsed": 646,
     "status": "ok",
     "timestamp": 1607372594484,
     "user": {
      "displayName": "Michele Mancarella",
      "photoUrl": "",
      "userId": "11681048043505385774"
     },
     "user_tz": -60
    },
    "id": "LzX4nFm1BQqd",
    "outputId": "7da7471f-e702-46b3-9ab6-5a2ab0ad43dc"
   },
   "outputs": [],
   "source": []
  },
  {
   "cell_type": "code",
   "execution_count": 1,
   "metadata": {
    "id": "gv8_CyoHB0_Y"
   },
   "outputs": [],
   "source": [
    "from utils import *\n",
    "from testt import *\n",
    "from models import *\n",
    "from data_generator import *\n",
    "from train import *"
   ]
  },
  {
   "cell_type": "code",
   "execution_count": 2,
   "metadata": {},
   "outputs": [],
   "source": [
    "from testt import load_model_for_test"
   ]
  },
  {
   "cell_type": "code",
   "execution_count": 3,
   "metadata": {
    "id": "Oaw1mzZqTsnu"
   },
   "outputs": [],
   "source": [
    "import matplotlib.pyplot as plt\n",
    "plt.rcParams[\"font.family\"] = 'serif'\n",
    "plt.rcParams[\"mathtext.fontset\"] = \"cm\""
   ]
  },
  {
   "cell_type": "code",
   "execution_count": 4,
   "metadata": {
    "colab": {
     "base_uri": "https://localhost:8080/"
    },
    "executionInfo": {
     "elapsed": 3598,
     "status": "ok",
     "timestamp": 1607370235223,
     "user": {
      "displayName": "Michele Mancarella",
      "photoUrl": "",
      "userId": "11681048043505385774"
     },
     "user_tz": -60
    },
    "id": "fZiOh8u5QowF",
    "outputId": "5b875264-1a95-4f93-85c2-897f06152fc6"
   },
   "outputs": [
    {
     "name": "stdout",
     "output_type": "stream",
     "text": [
      "\u001b[0m\u001b[01;34mexample_spectra\u001b[0m/  \u001b[01;32mplanck.txt\u001b[0m*  \u001b[01;34mtest_data\u001b[0m/  \u001b[01;34mtrain_data\u001b[0m/\n"
     ]
    }
   ],
   "source": [
    "%ls data/"
   ]
  },
  {
   "cell_type": "markdown",
   "metadata": {
    "id": "FYGq6yP8Nvoq"
   },
   "source": [
    "## Functions to load models and data"
   ]
  },
  {
   "cell_type": "code",
   "execution_count": 5,
   "metadata": {
    "id": "gazkA01-CMCj"
   },
   "outputs": [],
   "source": [
    "def read_pre_trained_flags(args_dict):\n",
    "  '''\n",
    "  Read model options from logfile and return them in the form of FLAGS (the corresponding class is in utils)\n",
    "  '''\n",
    "  args = DummyFlags(args_dict)\n",
    "  FLAGS = get_flags(args.log_path)\n",
    "  if args.models_dir is not None:\n",
    "        print('Reading model from the directory %s' %args.models_dir)\n",
    "        FLAGS.models_dir = args.models_dir\n",
    "  return FLAGS\n",
    "\n",
    "\n",
    "def get_pre_trained_model(fname, n_classes, input_shape):\n",
    "  '''\n",
    "  returns pre-trained model.\n",
    "  Input:  - fname: string, folder where the trained model is stored\n",
    "          - n_classes: integer, number of output classes of the model\n",
    "          - input_shape:  tuple, input dimensions of the model.\n",
    "                          For pre-trained model in the paper use (100, 4)\n",
    "  \n",
    "  '''\n",
    "\n",
    "  log_path = os.path.join('models', fname, fname+'_log.txt' )\n",
    "  models_dir = os.path.join('models', fname)\n",
    "\n",
    "  args_dict= {'log_path':log_path, 'models_dir': models_dir, }\n",
    "  FLAGS=read_pre_trained_flags(args_dict)\n",
    "\n",
    "  print('Input shape %s' %str(input_shape))\n",
    "\n",
    "\n",
    "  model_loaded =  load_model_for_test(FLAGS, input_shape, n_classes=n_classes,\n",
    "                                        generator=None, new_fname='') \n",
    "\n",
    "\n",
    "  return model_loaded\n",
    "\n",
    "\n",
    "\n",
    "def load_X(fname, sample_pace, i_max, norm_data, \n",
    "           add_noise=True, normalise=True, use_sample_pace=False, include_k=True):\n",
    "  '''\n",
    "  Generates one power spectrum X ready for classification.\n",
    "  Options:  fname: path to data\n",
    "            sample_pace: read one point every sample_pace. Useful to reduce data dimension\n",
    "            i_max: Index corresponding to the max k used\n",
    "            norm_data: normalization spectrum\n",
    "\n",
    "            add_noise: whether to add noise or not\n",
    "            normalise: normalise by Planck or not\n",
    "            use_sample_pace\n",
    "            include_k: return k, X or only X\n",
    "\n",
    "\n",
    "  \n",
    "  '''\n",
    "  \n",
    "  all = np.loadtxt(fname)\n",
    "  print('loaded data shape: %s' %str(all.shape))\n",
    "  if include_k:\n",
    "    k, X = all[:, 0], all[:, 1:]\n",
    "    print('k, X  shape: %s, %s' %(str(k.shape), str(X.shape)))\n",
    "  else:\n",
    "    X = all\n",
    "    k=np.arange(X.shape[0])\n",
    "    print('X  shape : %s' %( str(X.shape)))\n",
    "  if use_sample_pace:\n",
    "    k, X = k[::sample_pace], X[::sample_pace]\n",
    "  print('X  shape after sample pace:  %s' %( str(X.shape)))\n",
    "  k, X  = k[:i_max], X[:i_max]\n",
    "  print('X  shape after k max: %s' %( str(X.shape)))\n",
    "  if add_noise:\n",
    "    noise = np.random.normal(loc=0, scale=generate_noise(k,X, add_sys=True,add_shot=True,sigma_sys=5 ))\n",
    "    X = X+noise\n",
    "  if normalise:\n",
    "    planck = norm_data\n",
    "    print('planck data shape: %s' %str(planck.shape))\n",
    "    X = X/planck-1\n",
    "  if include_k:\n",
    "    return k, X\n",
    "  else:\n",
    "    return X"
   ]
  },
  {
   "cell_type": "code",
   "execution_count": 6,
   "metadata": {
    "id": "2YdVmL6YItLH"
   },
   "outputs": [],
   "source": [
    "# Encoding of the labels for the two networks. Can be found in the log file of the training. \n",
    "# Here it is easier to define it by hand.\n",
    "\n",
    "inv_labels_dict_5={0:'dgp', 1:'fR', 2:'lcdm', 3:'rand', 4:'wcdm'}\n",
    "inv_labels_dict_2={0:'lcdm', 1:'non-LCDM'}"
   ]
  },
  {
   "cell_type": "code",
   "execution_count": null,
   "metadata": {
    "id": "HR46en4OhaFv"
   },
   "outputs": [],
   "source": []
  },
  {
   "cell_type": "markdown",
   "metadata": {
    "id": "Ho00eqUjDVPp"
   },
   "source": [
    "## Code for getting confidence"
   ]
  },
  {
   "cell_type": "code",
   "execution_count": 7,
   "metadata": {
    "id": "3ciV9qDIDXY7"
   },
   "outputs": [],
   "source": [
    "def sample_from_data(model,  my_Xs_norm,  my_min=np.zeros(5), my_max=np.ones(5), \n",
    "                     n_samples=50000, num_monte_carlo=100, th_prob=0.5,\n",
    "                     verbose=True):\n",
    "  '''\n",
    "  Given some normalized features my_Xs_norm and the model, compute mu and Sigma as in the paper eq. 2.8-2.9\n",
    "  and return samples from the probability distribuion eq. 2.10\n",
    "  '''\n",
    "  Al_error, Ep_error, mean = get_mu_Sigma(model, my_Xs_norm , num_monte_carlo=num_monte_carlo, th_prob=th_prob, verbose=verbose)\n",
    "  Sigma = (Al_error+ Ep_error).numpy()\n",
    "  MM = mean.numpy()\n",
    "  if verbose:\n",
    "    print('Sigma')\n",
    "    print(np.round(Sigma, 3))\n",
    "  samples, z_samples = sample_probas(Sigma, MM, my_min=my_min,my_max=my_max, n_samples=n_samples, verbose=verbose)\n",
    "\n",
    "  return samples, z_samples, Sigma, MM\n",
    "\n",
    "\n",
    "\n",
    "def get_mu_Sigma(model, my_Xs_norm, num_monte_carlo=100, th_prob=0.5, verbose=True):\n",
    "  ''''\n",
    "  Given some normalized features my_Xs_norm and the model, compute mu and Sigma as in the paper eq. 2.8-2.9\n",
    "  '''\n",
    "  if verbose:\n",
    "    print('Computing mu and sigma...')\n",
    "  sampled_probas, _, _ = my_predict(tf.expand_dims(my_Xs_norm, axis=0), model, num_monte_carlo=num_monte_carlo, th_prob=th_prob)\n",
    "  mean = tf.reduce_mean(sampled_probas[:,0,:], axis=0)\n",
    "  _, Al_error, Ep_error = get_err_variances(sampled_probas[:,0,:])\n",
    "  return Al_error, Ep_error, mean\n",
    "\n",
    "\n",
    "def sample_probas(Sigma, MM, my_min=np.zeros(5), my_max=np.ones(5), n_samples=50000, verbose=True):\n",
    "  '''\n",
    "  Given mu and Sigma as in the paper eq. 2.8-2.9, computes B, U as described in appendix B of the paper.\n",
    "  Then calls function to sample the prob. distribution (eq. 2.10)\n",
    "  '''\n",
    "  if verbose:\n",
    "    print('Sample probas call')\n",
    "  evals, evecs = np.linalg.eig(Sigma)\n",
    "  B = evecs\n",
    "  U = B.T @ Sigma @  B\n",
    "  if verbose:\n",
    "    print('U')\n",
    "    print(np.round(U, 3))\n",
    "  n_dims=U.shape[0]-1\n",
    "  n_dims=U.shape[0]-1\n",
    "  ind_min = np.argmin(np.diag(U))\n",
    "  if verbose:\n",
    "    print('Index of min eigenvalue is: %s' %ind_min)\n",
    "    print('Min eigenvalue is: %s' %np.min(np.diag(U)))\n",
    "  UU = np.array([np.sqrt(U[i,i])  for i in range(U.shape[0]) if i!=ind_min ] )  \n",
    "  if verbose:\n",
    "    print('U has %s elements ' %str(UU.shape[0]))\n",
    "  samples, z_samples = get_samples(UU, B, MM, my_min=my_min, my_max=my_max, ind_min=ind_min, n_dims=n_dims, n_samples=n_samples, verbose=verbose)\n",
    "  return samples, z_samples\n",
    "\n",
    "\n",
    "def get_samples(UU, B, MM, my_min=np.zeros(5), my_max=np.ones(5), ind_min=-1, n_dims=4, n_samples=50000, verbose=True):\n",
    "  '''\n",
    "  samples eq. 2.10 as described in appendix B\n",
    "  '''\n",
    "  if verbose:\n",
    "    print('Sampling...')\n",
    "  samples = np.zeros((0, n_dims+1))\n",
    "  z_samples = np.zeros((0, n_dims)) \n",
    "  while samples.shape[0] < n_samples: \n",
    "    s = np.random.multivariate_normal( np.zeros(n_dims), np.diag(UU**2), size=(n_samples,))\n",
    "    accepted = s[(np.min(X_val_batch(s, B, MM, null_ind=ind_min)-my_min, axis=1) >= 0) & (np.max(X_val_batch(s, B, MM, null_ind=ind_min) - my_max, axis=1) <= 0)]\n",
    "    samples = np.concatenate((samples, X_val_batch(accepted, B, MM, null_ind=ind_min)), axis=0)\n",
    "    z_samples = np.concatenate((z_samples, accepted), axis=0)\n",
    "  samples = samples[:n_samples, :]\n",
    "  z_samples = z_samples[:n_samples, :]\n",
    "  if verbose:\n",
    "    print('Done.')\n",
    "  return samples, z_samples\n",
    "\n",
    "\n",
    "\n",
    "def X_val_batch(Z, B, MM, null_ind):\n",
    "  return np.array([ X_val(Z[i], B, MM, null_ind=null_ind,) for i in range(Z.shape[0])])\n",
    "\n",
    "def Z(X, B, MM):\n",
    "  '''  X must be 5-d '''\n",
    "  return B.T @ (X-MM)\n",
    "\n",
    "def X_val(Z, B, MM, null_ind=-1, verbose=False):\n",
    "  '''  Z must be 4-d , MM must be 5-d '''\n",
    "  if verbose:\n",
    "    print(Z)\n",
    "  Z = np.insert(Z, null_ind, 0)\n",
    "  if verbose:\n",
    "    print(Z)\n",
    "  return B @ Z+ MM\n",
    "\n",
    "\n",
    "def get_err_variances(prob_k, AlEp_split=True):\n",
    "  '''\n",
    "  Computes aleatoric and epistemic uncertainty from MC samples from the net. weights\n",
    "  '''\n",
    "  num_samples = prob_k.shape[0]\n",
    "  prob_mean = tf.reduce_mean(prob_k, axis=0)\n",
    "\n",
    "  diag_probs = tf.stack([np.diag(prob_k[i,:]) for i in range(num_samples)], axis=0)  # Diagonal matrix whose diagonal elements are the output of the network for the ith sample\n",
    "  outer_products_Al = tf.stack([tf.tensordot(prob_k[i,:], prob_k[i,:], axes =0) for i in range(num_samples)], axis=0) # Outer self-product of the predictive vectors for the ith sample used in computing Al uncertainty\n",
    "  outer_products_Ep = tf.stack([tf.tensordot(prob_k[i,:] - prob_mean, prob_k[i,:] - prob_mean, axes =0) for i in range(num_samples)], axis=0) # Outer self-product between the difference of the predictive vector for ith sampl and average prediction\n",
    "\n",
    "  Al_error = tf.reduce_mean(diag_probs - outer_products_Al, axis=0) # Average over all the samples to compute aleotoric uncertainty\n",
    "  Ep_error = tf.reduce_mean(outer_products_Ep, axis=0) # Average over all the samples to compute epistemic uncertainty\n",
    "\n",
    "  tot_error = Al_error + Ep_error # Combine to compute total uncertainty\n",
    "  confidences = tf.linalg.diag_part(tot_error).numpy()\n",
    "\n",
    "  if AlEp_split:\n",
    "    return confidences, Al_error, Ep_error\n",
    "  else:\n",
    "    return confidences\n",
    "\n",
    "\n",
    "\n",
    "def get_P_from_samples(samples, th_prob=0.5 ):\n",
    "  '''\n",
    "  Given samples from eq. 2.10, computes the probabilities as in eq. 2.11\n",
    "  '''\n",
    "  Ntot = samples.shape[0] #-unclassified\n",
    "  n_dims  = samples.shape[-1]\n",
    "  all_preds = np.array([predict_bayes_label(sample, th_prob=th_prob) for sample in samples])\n",
    "  unclassified=all_preds[all_preds==99].shape[0]\n",
    "\n",
    "  n_in_class = np.array([all_preds[all_preds==k].shape[0] for k in range(n_dims)])\n",
    "\n",
    "  #print('Ntot: %s  ' %Ntot)\n",
    "  p_uncl=unclassified/Ntot\n",
    "  #print('%s unclassified examples ' %unclassified)\n",
    "  #print('P(unclassified)=%s ' %p_uncl)\n",
    "  pp=n_in_class/Ntot\n",
    "  #print(pp)\n",
    "  #print(p_uncl)\n",
    "\n",
    "  return np.append(pp, p_uncl)\n",
    "\n",
    "\n",
    "def get_all_probas(X, model_loaded, \n",
    "                   n_classes=5, \n",
    "                   num_monte_carlo=100,\n",
    "                   th_prob=0.5, \n",
    "                   n_samples=10000, \n",
    "                   verbose=True):\n",
    "    '''\n",
    "    Given features X, predicts the labels with MC samples from the net, \n",
    "    computes mu and sigma, samples from the prob distribution\n",
    "    and computes P. \n",
    "    Returns result in the form of a dictionary \n",
    "    '''\n",
    "    \n",
    "    # Gaussian approx\n",
    "    samples, z_samples, Sigma, MM = sample_from_data(model_loaded, \n",
    "                                                 my_Xs_norm=X,\n",
    "                                                 my_min=np.zeros(n_classes), my_max=np.ones(n_classes), \n",
    "                                                 n_samples=n_samples, \n",
    "                                                 num_monte_carlo=num_monte_carlo,\n",
    "                                                 th_prob=th_prob, verbose=verbose)\n",
    "    \n",
    "    P = get_P_from_samples(samples, th_prob=th_prob)\n",
    "    if verbose:\n",
    "      print('P: %s ' %str(P))\n",
    "      print('P sum to %s' %P.sum())\n",
    "    if verbose:\n",
    "      print('mu  sum to %s' %MM.sum())\n",
    "   \n",
    "  \n",
    "    # Result\n",
    "    res = {'samples':samples, 'P':P, 'z_samples': z_samples, 'Sigma': Sigma, 'MM': MM,}\n",
    "    return res"
   ]
  },
  {
   "cell_type": "code",
   "execution_count": 8,
   "metadata": {
    "id": "sjYxika6EaWc"
   },
   "outputs": [],
   "source": [
    "\n",
    "def plot_hist_1D(samples, MM, th_prob=0.5,  \n",
    "                  P=None, inv_labels_dict=None,):\n",
    "  '''\n",
    "  Plots histogram of gauss samples for each class\n",
    "  '''\n",
    "\n",
    "  n_dims = samples.shape[-1]-1\n",
    "  fig, axs = plt.subplots(1, n_dims+1, sharey=True, sharex=False,figsize=(25,5))\n",
    "\n",
    "  t_str=''\n",
    "  for k in range(n_dims+1):\n",
    "\n",
    "    axs[k].hist(samples.T[k], bins=15, color = \"lightgray\",lw=0, density=True, label='Gauss samples')\n",
    "    axs[k].text(0.1, 0.9, '$\\mu = $' + '$'+ str(MM[k])+'$', fontsize = 16 , transform=axs[k].transAxes);\n",
    "    if P is  not None:\n",
    "      axs[k].text(0.1, 0.8, '$ P = $' + '$'+ str(P[k])+'$', fontsize = 16 , transform=axs[k].transAxes);  \n",
    "      if k==0:\n",
    "        t_str+= 'P unclassified: %s \\n' %str(np.round(P[-1], 2) )    \n",
    "    axs[k].set_xlim(0,1)\n",
    "    axs[k].set_ylim(0,10)\n",
    "    \n",
    "    if inv_labels_dict is not None:\n",
    "      axs[k].set_title(inv_labels_dict[k])\n",
    "    \n",
    "    \n",
    "    axs[k].legend(loc='lower right')\n",
    "\n",
    "  axs[0].set_ylabel('P')\n",
    "  fig.suptitle(t_str)\n",
    "\n",
    "  plt.show()"
   ]
  },
  {
   "cell_type": "code",
   "execution_count": 9,
   "metadata": {},
   "outputs": [
    {
     "name": "stdout",
     "output_type": "stream",
     "text": [
      "2.6.0\n"
     ]
    }
   ],
   "source": [
    "import tensorflow as tf\n",
    "print(tf.__version__)"
   ]
  },
  {
   "cell_type": "markdown",
   "metadata": {
    "id": "SKo2vnj_Nzo0"
   },
   "source": [
    "## Load models \n",
    "\n",
    "Here we load the pre trained models "
   ]
  },
  {
   "cell_type": "code",
   "execution_count": 10,
   "metadata": {
    "colab": {
     "base_uri": "https://localhost:8080/"
    },
    "executionInfo": {
     "elapsed": 3963,
     "status": "ok",
     "timestamp": 1607370236332,
     "user": {
      "displayName": "Michele Mancarella",
      "photoUrl": "",
      "userId": "11681048043505385774"
     },
     "user_tz": -60
    },
    "id": "rHuW_fpxJmvc",
    "outputId": "bd46a8f5-32e9-456b-c45e-28a653912dbf"
   },
   "outputs": [
    {
     "name": "stdout",
     "output_type": "stream",
     "text": [
      "\n",
      " -------- Loaded parameters:\n",
      "bayesian True\n",
      "test_mode False\n",
      "n_test_idx 2\n",
      "seed 1511\n",
      "fine_tune False\n",
      "one_vs_all False\n",
      "c_0 ['lcdm']\n",
      "c_1 ['dgp', 'fR', 'rand', 'wcdm']\n",
      "dataset_balanced False\n",
      "include_last False\n",
      "log_path \n",
      "restore False\n",
      "fname 2210_MM_1\n",
      "model_name custom\n",
      "my_path /content\n",
      "DIR Train_data_full\n",
      "TEST_DIR data/test_data/new_test_data\n",
      "models_dir /content/drive/My Drive/ML_REACT/models/MM/bayes_2/\n",
      "save_ckpt True\n",
      "out_path_overwrite False\n",
      "im_depth 500\n",
      "im_width 1\n",
      "im_channels 4\n",
      "swap_axes True\n",
      "sort_labels True\n",
      "normalization stdcosmo\n",
      "sample_pace 4\n",
      "k_max 2.5\n",
      "i_max None\n",
      "add_noise True\n",
      "n_noisy_samples 10\n",
      "add_shot True\n",
      "add_sys True\n",
      "sigma_sys 5.0\n",
      "z_bins [0, 1, 2, 3]\n",
      "n_dense 1\n",
      "filters [8, 16, 32]\n",
      "kernel_sizes [10, 5, 2]\n",
      "strides [2, 2, 1]\n",
      "pool_sizes [2, 2, 0]\n",
      "strides_pooling [2, 1, 0]\n",
      "add_FT_dense False\n",
      "trainable False\n",
      "unfreeze False\n",
      "lr 0.01\n",
      "drop 0.5\n",
      "n_epochs 70\n",
      "val_size 0.15\n",
      "test_size 0.0\n",
      "batch_size 2500\n",
      "patience 100\n",
      "GPU True\n",
      "decay 0.95\n",
      "BatchNorm True\n",
      "group_lab_dict {'dgp': 'non_lcdm', 'fR': 'non_lcdm', 'rand': 'non_lcdm', 'wcdm': 'non_lcdm', 'lcdm': 'lcdm'}\n",
      "FLAGS.one_vs_all : False\n",
      "Reading model from the directory models/five_label\n",
      "Input shape (100, 4)\n",
      "------------ BUILDING MODEL ------------\n",
      "\n",
      "Model n_classes : 5 \n",
      "using 1D layers and 4 channels\n",
      "Expected output dimension of layer conv1d_flipout: 46.0\n",
      "Expected output dimension of layer max_pooling1d: 23.0\n",
      "Expected output dimension of layer conv1d_flipout_1: 10.0\n",
      "Expected output dimension of layer max_pooling1d_1: 9.0\n",
      "Expected output dimension of layer conv1d_flipout_2: 8.0\n"
     ]
    },
    {
     "name": "stderr",
     "output_type": "stream",
     "text": [
      "/home/master/micromamba/envs/Bacon/lib/python3.9/site-packages/keras/engine/base_layer.py:2223: UserWarning: `layer.add_variable` is deprecated and will be removed in a future version. Please use `layer.add_weight` method instead.\n",
      "  warnings.warn('`layer.add_variable` is deprecated and '\n",
      "2024-12-04 21:48:04.726061: I tensorflow/core/platform/cpu_feature_guard.cc:142] This TensorFlow binary is optimized with oneAPI Deep Neural Network Library (oneDNN) to use the following CPU instructions in performance-critical operations:  SSE4.1 SSE4.2 AVX AVX2 FMA\n",
      "To enable them in other operations, rebuild TensorFlow with the appropriate compiler flags.\n",
      "2024-12-04 21:48:04.728079: I tensorflow/core/common_runtime/process_util.cc:146] Creating new thread pool with default inter op setting: 2. Tune using inter_op_parallelism_threads for best performance.\n"
     ]
    },
    {
     "name": "stdout",
     "output_type": "stream",
     "text": [
      "Model: \"model\"\n",
      "_________________________________________________________________\n",
      "Layer (type)                 Output Shape              Param #   \n",
      "=================================================================\n",
      "input_1 (InputLayer)         [(None, 100, 4)]          0         \n",
      "_________________________________________________________________\n",
      "conv1d_flipout (Conv1DFlipou (None, 46, 8)             648       \n",
      "_________________________________________________________________\n",
      "max_pooling1d (MaxPooling1D) (None, 23, 8)             0         \n",
      "_________________________________________________________________\n",
      "batch_normalization (BatchNo (None, 23, 8)             32        \n",
      "_________________________________________________________________\n",
      "conv1d_flipout_1 (Conv1DFlip (None, 10, 16)            1296      \n",
      "_________________________________________________________________\n",
      "max_pooling1d_1 (MaxPooling1 (None, 9, 16)             0         \n",
      "_________________________________________________________________\n",
      "batch_normalization_1 (Batch (None, 9, 16)             64        \n",
      "_________________________________________________________________\n",
      "conv1d_flipout_2 (Conv1DFlip (None, 8, 32)             2080      \n",
      "_________________________________________________________________\n",
      "batch_normalization_2 (Batch (None, 8, 32)             128       \n",
      "_________________________________________________________________\n",
      "global_average_pooling1d (Gl (None, 32)                0         \n",
      "_________________________________________________________________\n",
      "dense_flipout (DenseFlipout) (None, 32)                2080      \n",
      "_________________________________________________________________\n",
      "batch_normalization_3 (Batch (None, 32)                128       \n",
      "_________________________________________________________________\n",
      "dense_flipout_1 (DenseFlipou (None, 5)                 325       \n",
      "=================================================================\n",
      "Total params: 6,781\n",
      "Trainable params: 6,605\n",
      "Non-trainable params: 176\n",
      "_________________________________________________________________\n",
      "None\n",
      "------------ RESTORING CHECKPOINT ------------\n",
      "\n",
      "Looking for ckpt in models/five_label/tf_ckpts/\n",
      "Restoring checkpoint from models/five_label/tf_ckpts/ckpt-35\n"
     ]
    },
    {
     "name": "stderr",
     "output_type": "stream",
     "text": [
      "2024-12-04 21:48:05.046875: W tensorflow/python/util/util.cc:348] Sets are not currently considered sequences, but this may change in the future, so consider avoiding using them.\n",
      "/home/master/micromamba/envs/Bacon/lib/python3.9/site-packages/keras/optimizer_v2/optimizer_v2.py:355: UserWarning: The `lr` argument is deprecated, use `learning_rate` instead.\n",
      "  warnings.warn(\n"
     ]
    },
    {
     "name": "stdout",
     "output_type": "stream",
     "text": [
      "WARNING:tensorflow:Unresolved object in checkpoint: (root).step\n",
      "WARNING:tensorflow:Unresolved object in checkpoint: (root).optimizer.iter\n",
      "WARNING:tensorflow:Unresolved object in checkpoint: (root).optimizer.beta_1\n",
      "WARNING:tensorflow:Unresolved object in checkpoint: (root).optimizer.beta_2\n",
      "WARNING:tensorflow:Unresolved object in checkpoint: (root).optimizer.decay\n",
      "WARNING:tensorflow:A checkpoint was restored (e.g. tf.train.Checkpoint.restore or tf.keras.Model.load_weights) but not all checkpointed values were used. See above for specific issues. Use expect_partial() on the load status object, e.g. tf.train.Checkpoint.restore(...).expect_partial(), to silence these warnings, or use assert_consumed() to make the check explicit. See https://www.tensorflow.org/guide/checkpoint#loading_mechanics for details.\n"
     ]
    }
   ],
   "source": [
    "model_5 = get_pre_trained_model('five_label', 5, (100, 4) )"
   ]
  },
  {
   "cell_type": "code",
   "execution_count": 11,
   "metadata": {
    "id": "-8P3WMpd0sw2"
   },
   "outputs": [
    {
     "name": "stdout",
     "output_type": "stream",
     "text": [
      "The following line has not been formatted: \n",
      " group_lab_dict {'dgp': 'non_lcdm', 'fR': 'non_lcdm', 'rand': 'non_lcdm', 'wcdm': 'non_lcdm', 'lcdm': 'lcdm'}\n",
      "\n",
      "\n",
      " -------- Loaded parameters:\n",
      "bayesian True\n",
      "test_mode False\n",
      "n_test_idx 2\n",
      "seed 1312\n",
      "fine_tune False\n",
      "one_vs_all True\n",
      "c_0 ['lcdm']\n",
      "c_1 ['dgp', 'fR', 'rand', 'wcdm']\n",
      "dataset_balanced False\n",
      "include_last False\n",
      "log_path \n",
      "restore False\n",
      "fname 1910_EG_oneVSall_ub\n",
      "model_name custom\n",
      "my_path /content\n",
      "DIR Train_data_full\n",
      "TEST_DIR data/test_data/new_test_data\n",
      "models_dir /content/drive/My Drive/ML_REACT/models/MM/bayes_2/\n",
      "save_ckpt True\n",
      "out_path_overwrite False\n",
      "im_depth 500\n",
      "im_width 1\n",
      "im_channels 4\n",
      "swap_axes True\n",
      "sort_labels True\n",
      "normalization stdcosmo\n",
      "sample_pace 4\n",
      "k_max 2.5\n",
      "i_max None\n",
      "add_noise True\n",
      "n_noisy_samples 10\n",
      "add_shot True\n",
      "add_sys True\n",
      "sigma_sys 5.0\n",
      "z_bins [0, 1, 2, 3]\n",
      "n_dense 1\n",
      "filters [8, 16, 32]\n",
      "kernel_sizes [10, 5, 2]\n",
      "strides [2, 2, 1]\n",
      "pool_sizes [2, 2, 0]\n",
      "strides_pooling [2, 1, 0]\n",
      "add_FT_dense False\n",
      "trainable False\n",
      "unfreeze False\n",
      "lr 0.01\n",
      "drop 0.5\n",
      "n_epochs 70\n",
      "val_size 0.15\n",
      "test_size 0.0\n",
      "batch_size 2500\n",
      "patience 150\n",
      "GPU True\n",
      "decay 0.95\n",
      "BatchNorm True\n",
      "group_lab_dict {'dgp': 'non_lcdm', 'fR': 'non_lcdm', 'rand': 'non_lcdm', 'wcdm': 'non_lcdm', 'lcdm': 'lcdm'}\n",
      "FLAGS.one_vs_all : True\n",
      "Reading model from the directory models/two_label\n",
      "Input shape (100, 4)\n",
      "------------ BUILDING MODEL ------------\n",
      "\n",
      "Model n_classes : 2 \n",
      "using 1D layers and 4 channels\n",
      "Expected output dimension of layer conv1d_flipout_3: 46.0\n",
      "Expected output dimension of layer max_pooling1d_2: 23.0\n",
      "Expected output dimension of layer conv1d_flipout_4: 10.0\n",
      "Expected output dimension of layer max_pooling1d_3: 9.0\n",
      "Expected output dimension of layer conv1d_flipout_5: 8.0\n",
      "Model: \"model_1\"\n",
      "_________________________________________________________________\n",
      "Layer (type)                 Output Shape              Param #   \n",
      "=================================================================\n",
      "input_2 (InputLayer)         [(None, 100, 4)]          0         \n",
      "_________________________________________________________________\n",
      "conv1d_flipout_3 (Conv1DFlip (None, 46, 8)             648       \n",
      "_________________________________________________________________\n",
      "max_pooling1d_2 (MaxPooling1 (None, 23, 8)             0         \n",
      "_________________________________________________________________\n",
      "batch_normalization_4 (Batch (None, 23, 8)             32        \n",
      "_________________________________________________________________\n",
      "conv1d_flipout_4 (Conv1DFlip (None, 10, 16)            1296      \n",
      "_________________________________________________________________\n",
      "max_pooling1d_3 (MaxPooling1 (None, 9, 16)             0         \n",
      "_________________________________________________________________\n",
      "batch_normalization_5 (Batch (None, 9, 16)             64        \n",
      "_________________________________________________________________\n",
      "conv1d_flipout_5 (Conv1DFlip (None, 8, 32)             2080      \n",
      "_________________________________________________________________\n",
      "batch_normalization_6 (Batch (None, 8, 32)             128       \n",
      "_________________________________________________________________\n",
      "global_average_pooling1d_1 ( (None, 32)                0         \n",
      "_________________________________________________________________\n",
      "dense_flipout_2 (DenseFlipou (None, 32)                2080      \n",
      "_________________________________________________________________\n",
      "batch_normalization_7 (Batch (None, 32)                128       \n",
      "_________________________________________________________________\n",
      "dense_flipout_3 (DenseFlipou (None, 2)                 130       \n",
      "=================================================================\n",
      "Total params: 6,586\n",
      "Trainable params: 6,410\n",
      "Non-trainable params: 176\n",
      "_________________________________________________________________\n",
      "None\n",
      "------------ RESTORING CHECKPOINT ------------\n",
      "\n",
      "Looking for ckpt in models/two_label/tf_ckpts/\n",
      "Restoring checkpoint from models/two_label/tf_ckpts/ckpt-31\n",
      "WARNING:tensorflow:Unresolved object in checkpoint: (root).step\n",
      "WARNING:tensorflow:Unresolved object in checkpoint: (root).optimizer.iter\n",
      "WARNING:tensorflow:Unresolved object in checkpoint: (root).optimizer.beta_1\n",
      "WARNING:tensorflow:Unresolved object in checkpoint: (root).optimizer.beta_2\n",
      "WARNING:tensorflow:Unresolved object in checkpoint: (root).optimizer.decay\n",
      "WARNING:tensorflow:A checkpoint was restored (e.g. tf.train.Checkpoint.restore or tf.keras.Model.load_weights) but not all checkpointed values were used. See above for specific issues. Use expect_partial() on the load status object, e.g. tf.train.Checkpoint.restore(...).expect_partial(), to silence these warnings, or use assert_consumed() to make the check explicit. See https://www.tensorflow.org/guide/checkpoint#loading_mechanics for details.\n"
     ]
    }
   ],
   "source": [
    "model_2 = get_pre_trained_model('two_label', 2, (100, 4) )"
   ]
  },
  {
   "cell_type": "markdown",
   "metadata": {
    "id": "9WV6117ZOqdF"
   },
   "source": [
    "## Get data\n",
    "\n",
    "We provide data used to generate Fig. 6-8 in the paper in the folder example_spectra. Here we show how to load the fR spectrum"
   ]
  },
  {
   "cell_type": "markdown",
   "metadata": {
    "id": "7I0W-Yd0YERw"
   },
   "source": [
    "Load normalization data first"
   ]
  },
  {
   "cell_type": "code",
   "execution_count": 12,
   "metadata": {
    "id": "FirJ3GM5YDgl"
   },
   "outputs": [],
   "source": [
    "sample_pace=4 # the planck data were generated with 500 points up to k=10 . We need 1 every 4 points, and to cut to k_max=2.5\n",
    "i_max=100\n",
    "\n",
    "planck = np.loadtxt('data/planck.txt')[:, 1:][::sample_pace][:i_max]"
   ]
  },
  {
   "cell_type": "code",
   "execution_count": 13,
   "metadata": {
    "colab": {
     "base_uri": "https://localhost:8080/"
    },
    "executionInfo": {
     "elapsed": 2465,
     "status": "ok",
     "timestamp": 1607370236335,
     "user": {
      "displayName": "Michele Mancarella",
      "photoUrl": "",
      "userId": "11681048043505385774"
     },
     "user_tz": -60
    },
    "id": "4S0HfNLeLsiv",
    "outputId": "ffc396f4-819d-4fec-80f3-2f0b330d00fe"
   },
   "outputs": [
    {
     "name": "stdout",
     "output_type": "stream",
     "text": [
      "loaded data shape: (100, 5)\n",
      "k, X  shape: (100,), (100, 4)\n",
      "X  shape after sample pace:  (100, 4)\n",
      "X  shape after k max: (100, 4)\n",
      "planck data shape: (100, 4)\n"
     ]
    }
   ],
   "source": [
    "k, X_fR = load_X('data/example_spectra/fR_ex.txt', \n",
    "                 sample_pace=None, i_max=100, \n",
    "                 norm_data=planck,\n",
    "                 add_noise=False, normalise=True, use_sample_pace=False)"
   ]
  },
  {
   "cell_type": "markdown",
   "metadata": {
    "id": "C_01rSvQTjrT"
   },
   "source": [
    "Let's look at the input features as seen by the network."
   ]
  },
  {
   "cell_type": "code",
   "execution_count": 14,
   "metadata": {
    "colab": {
     "base_uri": "https://localhost:8080/",
     "height": 270
    },
    "executionInfo": {
     "elapsed": 3284,
     "status": "ok",
     "timestamp": 1607370237162,
     "user": {
      "displayName": "Michele Mancarella",
      "photoUrl": "",
      "userId": "11681048043505385774"
     },
     "user_tz": -60
    },
    "id": "MhtjvSiCTiux",
    "outputId": "79b3836d-7ee6-4675-e15c-5c29740d9c95"
   },
   "outputs": [
    {
     "data": {
      "image/png": "[encoded data removed]",
      "text/plain": [
       "<Figure size 640x480 with 1 Axes>"
      ]
     },
     "metadata": {},
     "output_type": "display_data"
    }
   ],
   "source": [
    "plt.plot(k, X_fR);\n",
    "plt.xscale('log');"
   ]
  },
  {
   "cell_type": "markdown",
   "metadata": {
    "id": "GZgUlHtZrvG7"
   },
   "source": [
    "## Classify your spectra and compute confidence"
   ]
  },
  {
   "cell_type": "code",
   "execution_count": 15,
   "metadata": {
    "colab": {
     "base_uri": "https://localhost:8080/"
    },
    "executionInfo": {
     "elapsed": 1700,
     "status": "ok",
     "timestamp": 1607370258563,
     "user": {
      "displayName": "Michele Mancarella",
      "photoUrl": "",
      "userId": "11681048043505385774"
     },
     "user_tz": -60
    },
    "id": "RKNL6te3ruT0",
    "outputId": "071ff7bd-9d3a-4d62-d8f5-1dd90a810562"
   },
   "outputs": [
    {
     "name": "stdout",
     "output_type": "stream",
     "text": [
      "Computing mu and sigma...\n"
     ]
    },
    {
     "name": "stderr",
     "output_type": "stream",
     "text": [
      "2024-12-04 21:48:06.684227: I tensorflow/compiler/mlir/mlir_graph_optimization_pass.cc:185] None of the MLIR Optimization Passes are enabled (registered 2)\n"
     ]
    },
    {
     "name": "stdout",
     "output_type": "stream",
     "text": [
      "Sigma\n",
      "[[ 0.    -0.    -0.    -0.    -0.   ]\n",
      " [-0.     0.062 -0.054 -0.    -0.008]\n",
      " [-0.    -0.054  0.055 -0.    -0.   ]\n",
      " [-0.    -0.    -0.     0.    -0.   ]\n",
      " [-0.    -0.008 -0.    -0.     0.008]]\n",
      "Sample probas call\n",
      "U\n",
      "[[ 0.113 -0.    -0.     0.     0.   ]\n",
      " [-0.     0.012  0.    -0.    -0.   ]\n",
      " [-0.     0.     0.    -0.    -0.   ]\n",
      " [-0.    -0.    -0.    -0.     0.   ]\n",
      " [ 0.    -0.    -0.     0.     0.   ]]\n",
      "Index of min eigenvalue is: 3\n",
      "Min eigenvalue is: -8.304537e-09\n",
      "U has 4 elements \n",
      "Sampling...\n",
      "Done.\n",
      "P: [0.    0.874 0.052 0.    0.    0.074] \n",
      "P sum to 1.0\n",
      "mu  sum to 1.0000001\n"
     ]
    }
   ],
   "source": [
    "res_fR = get_all_probas(X_fR, \n",
    "                        model_5, \n",
    "                        n_classes=5, \n",
    "                        num_monte_carlo=5, \n",
    "                        th_prob=0.5,\n",
    "                        n_samples=1000)"
   ]
  },
  {
   "cell_type": "code",
   "execution_count": 16,
   "metadata": {
    "colab": {
     "base_uri": "https://localhost:8080/",
     "height": 304
    },
    "executionInfo": {
     "elapsed": 1483,
     "status": "ok",
     "timestamp": 1607370478791,
     "user": {
      "displayName": "Michele Mancarella",
      "photoUrl": "",
      "userId": "11681048043505385774"
     },
     "user_tz": -60
    },
    "id": "vVXx5ejLsG-i",
    "outputId": "84138571-9db8-4039-a61d-c30018d816a8"
   },
   "outputs": [
    {
     "name": "stdout",
     "output_type": "stream",
     "text": [
      "P-non-LCDM=0.948\n"
     ]
    },
    {
     "data": {
      "image/png": "[encoded data removed]",
      "text/plain": [
       "<Figure size 2500x500 with 5 Axes>"
      ]
     },
     "metadata": {},
     "output_type": "display_data"
    }
   ],
   "source": [
    "print('P-non-LCDM=%s' %(np.delete(res_fR['P'], [2]).sum()))\n",
    "plot_hist_1D(res_fR['samples'], \n",
    "             res_fR['MM'],\n",
    "             th_prob=0.5,  \n",
    "             P=res_fR['P'], \n",
    "             inv_labels_dict=inv_labels_dict_5)\n"
   ]
  },
  {
   "cell_type": "code",
   "execution_count": null,
   "metadata": {
    "id": "lyjpQLBOtZzR"
   },
   "outputs": [],
   "source": []
  },
  {
   "cell_type": "markdown",
   "metadata": {
    "id": "4iSMTBRy01Re"
   },
   "source": [
    "## Loading and classifying custom spectra\n",
    "\n",
    "Template for loading new spectra. Suppose you saved the spectrum in \n",
    "'data/example_spectra/my_ex.txt' . The spectrum is in 4 redshift bins and with 100 points between 0.01 - 2.5 in k . We normalize by the reference planck spectrum and add gaussian noise, then pass it to the five-label network.\n"
   ]
  },
  {
   "cell_type": "code",
   "execution_count": null,
   "metadata": {
    "id": "LlChhvTW02dn"
   },
   "outputs": [],
   "source": [
    "my_k, my_X = load_X('data/example_spectra/my_ex.txt', \n",
    "                 sample_pace=None, i_max=None, \n",
    "                 norm_data=planck,\n",
    "                 add_noise=True, normalise=True, use_sample_pace=False)"
   ]
  },
  {
   "cell_type": "code",
   "execution_count": null,
   "metadata": {
    "id": "PDOv_LWF1XcS"
   },
   "outputs": [],
   "source": [
    "res_fR = get_all_probas(my_X, \n",
    "                        model_5, \n",
    "                        n_classes=5, \n",
    "                        num_monte_carlo=100, \n",
    "                        th_prob=0.5,\n",
    "                        n_samples=10000)"
   ]
  }
 ],
 "metadata": {
  "colab": {
   "authorship_tag": "ABX9TyNe2+KF21JT9eY4xCvoNYxS",
   "collapsed_sections": [],
   "name": "Classification.ipynb",
   "provenance": []
  },
  "kernelspec": {
   "display_name": "Bacon",
   "language": "python",
   "name": "python3"
  },
  "language_info": {
   "codemirror_mode": {
    "name": "ipython",
    "version": 3
   },
   "file_extension": ".py",
   "mimetype": "text/x-python",
   "name": "python",
   "nbconvert_exporter": "python",
   "pygments_lexer": "ipython3",
   "version": "3.9.15"
  }
 },
 "nbformat": 4,
 "nbformat_minor": 0
}
